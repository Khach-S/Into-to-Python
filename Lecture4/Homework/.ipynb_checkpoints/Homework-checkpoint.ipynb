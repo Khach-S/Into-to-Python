{
 "cells": [
  {
   "cell_type": "markdown",
   "metadata": {},
   "source": [
    "## Conditionals"
   ]
  },
  {
   "cell_type": "markdown",
   "metadata": {},
   "source": [
    "### Problem 1"
   ]
  },
  {
   "cell_type": "code",
   "execution_count": 2,
   "metadata": {},
   "outputs": [
    {
     "name": "stdout",
     "output_type": "stream",
     "text": [
      "10\n",
      "You don't get a discount\n"
     ]
    }
   ],
   "source": [
    "shoes_price = 100\n",
    "n_shoes = int(input())\n",
    "if n_shoes * shoes_price > 1000:\n",
    "    print(\"You get a discount\")\n",
    "else:\n",
    "    print(\"You don't get a discount\")"
   ]
  },
  {
   "cell_type": "markdown",
   "metadata": {},
   "source": [
    "### Problem 2"
   ]
  },
  {
   "cell_type": "code",
   "execution_count": 3,
   "metadata": {},
   "outputs": [
    {
     "name": "stdout",
     "output_type": "stream",
     "text": [
      "Good job\n"
     ]
    }
   ],
   "source": [
    "d = {\"name\":\"Armen\", \"age\":15, \"grades\":[10, 8, 8, 4, 6, 7]}\n",
    "grade_value = sum(d[\"grades\"])\n",
    "num_grades = len(d[\"grades\"])\n",
    "avg_grade = grade_value / num_grades\n",
    "if avg_grade > 7:\n",
    "    print(\"Good job\")\n",
    "else:\n",
    "    print(\"You need to work more.\")"
   ]
  },
  {
   "cell_type": "markdown",
   "metadata": {},
   "source": [
    "## Loops and loop control statements"
   ]
  },
  {
   "cell_type": "markdown",
   "metadata": {},
   "source": [
    "### Problem 3"
   ]
  },
  {
   "cell_type": "code",
   "execution_count": 4,
   "metadata": {},
   "outputs": [
    {
     "name": "stdout",
     "output_type": "stream",
     "text": [
      "1\n",
      "3\n",
      "5\n",
      "7\n",
      "9\n"
     ]
    }
   ],
   "source": [
    "for x in range(10):\n",
    "    if x % 2 == 0:\n",
    "        continue\n",
    "    print(x)"
   ]
  },
  {
   "cell_type": "markdown",
   "metadata": {},
   "source": [
    "### Problem 4"
   ]
  },
  {
   "cell_type": "code",
   "execution_count": 5,
   "metadata": {},
   "outputs": [
    {
     "name": "stdout",
     "output_type": "stream",
     "text": [
      "i = 1\n",
      "i = 3\n",
      "i = 5\n",
      "i = 7\n",
      "i = 9\n"
     ]
    }
   ],
   "source": [
    "list1 = [1, 3, 5, 7, 9, 11, 13, 15]\n",
    "list2 = [4, 6, 14, 11, 8, 16]\n",
    "for i in list1:\n",
    "    if i in list2:\n",
    "        break\n",
    "    print(\"i =\", i)"
   ]
  },
  {
   "cell_type": "markdown",
   "metadata": {},
   "source": [
    "### Problem 5"
   ]
  },
  {
   "cell_type": "code",
   "execution_count": null,
   "metadata": {},
   "outputs": [],
   "source": [
    "menu = [\"ice cream\", \"chocolate\", \"apple crisp\", \"cookies\"]\n",
    "desert = str(input())\n",
    "for desert in menu:\n",
    "    if desert not in menu:\n",
    "        print(\"Please choose another desert\")\n",
    "    else:\n",
    "        print(\"Your desert will arrive in 10 minutes\")\n",
    "        break"
   ]
  },
  {
   "cell_type": "code",
   "execution_count": 6,
   "metadata": {},
   "outputs": [
    {
     "name": "stdout",
     "output_type": "stream",
     "text": [
      "apple\n",
      "Please choose another desert\n",
      "orange\n",
      "Please choose another desert\n",
      "cake\n",
      "Please choose another desert\n",
      "ice cream\n",
      "Your desert will arrive in 10 minutes\n"
     ]
    }
   ],
   "source": [
    "menu = [\"ice cream\", \"chocolate\", \"apple crisp\", \"cookies\"]\n",
    "\n",
    "while True:\n",
    "    desert = str(input())\n",
    "    if desert in menu:\n",
    "        print(\"Your desert will arrive in 10 minutes\")\n",
    "        break\n",
    "    else:\n",
    "        print(\"Please choose another desert\")"
   ]
  },
  {
   "cell_type": "markdown",
   "metadata": {},
   "source": [
    "## List comprehension"
   ]
  },
  {
   "cell_type": "markdown",
   "metadata": {},
   "source": [
    "### Problem 6"
   ]
  },
  {
   "cell_type": "code",
   "execution_count": 8,
   "metadata": {},
   "outputs": [
    {
     "name": "stdout",
     "output_type": "stream",
     "text": [
      "2\n"
     ]
    }
   ],
   "source": [
    "list2 = [1, 4, 7, 8, 10, 12, 13]\n",
    "amount = [n for n in list2 if n > 5 and n < 10]\n",
    "print(len(amount))"
   ]
  },
  {
   "cell_type": "markdown",
   "metadata": {},
   "source": [
    "### Problem 7"
   ]
  },
  {
   "cell_type": "code",
   "execution_count": 9,
   "metadata": {},
   "outputs": [
    {
     "name": "stdout",
     "output_type": "stream",
     "text": [
      "list 4 =  [[10, 20, 40], [40, 50, 60], [70, 80, 90]]\n",
      "list 5 =  [[10, 20, 100], [40, 50, 100], [70, 80, 100]]\n"
     ]
    }
   ],
   "source": [
    "list4 = [[10, 20, 40], [40, 50, 60], [70, 80, 90]]\n",
    "print(\"list 4 = \", list4)\n",
    "list5 = [i[:-1] + [100] for i in list4]\n",
    "print(\"list 5 = \", list5)"
   ]
  }
 ],
 "metadata": {
  "kernelspec": {
   "display_name": "Python 3",
   "language": "python",
   "name": "python3"
  },
  "language_info": {
   "codemirror_mode": {
    "name": "ipython",
    "version": 3
   },
   "file_extension": ".py",
   "mimetype": "text/x-python",
   "name": "python",
   "nbconvert_exporter": "python",
   "pygments_lexer": "ipython3",
   "version": "3.7.3"
  }
 },
 "nbformat": 4,
 "nbformat_minor": 2
}
