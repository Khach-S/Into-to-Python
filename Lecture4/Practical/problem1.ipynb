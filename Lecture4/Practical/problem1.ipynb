{
 "cells": [
  {
   "cell_type": "markdown",
   "metadata": {},
   "source": [
    "### Problem 1"
   ]
  },
  {
   "cell_type": "code",
   "execution_count": 43,
   "metadata": {},
   "outputs": [
    {
     "name": "stdout",
     "output_type": "stream",
     "text": [
      "1\n",
      "2\n",
      "The number  2 is the greatest\n"
     ]
    }
   ],
   "source": [
    "n_1 = int(input())\n",
    "n_2 = int(input())\n",
    "if n_1>n_2:\n",
    "    print(\"The number \", n_1, \"is the greatest\")\n",
    "    print(\"The number %s is the greatest \"% n_1)\n",
    "\n",
    "else:\n",
    "    print(\"The number \", n_2, \"is the greatest\")"
   ]
  },
  {
   "cell_type": "markdown",
   "metadata": {},
   "source": []
  },
  {
   "cell_type": "markdown",
   "metadata": {},
   "source": [
    "### Problem 2"
   ]
  },
  {
   "cell_type": "code",
   "execution_count": 18,
   "metadata": {},
   "outputs": [
    {
     "name": "stdout",
     "output_type": "stream",
     "text": [
      "rectangle\n"
     ]
    }
   ],
   "source": [
    "a = 4\n",
    "b = 5\n",
    "if a==b:\n",
    "    print(\"square\")\n",
    "else:\n",
    "    print(\"rectangle\")"
   ]
  },
  {
   "cell_type": "markdown",
   "metadata": {},
   "source": []
  },
  {
   "cell_type": "markdown",
   "metadata": {},
   "source": [
    "### Problem 3"
   ]
  },
  {
   "cell_type": "code",
   "execution_count": 61,
   "metadata": {},
   "outputs": [
    {
     "name": "stdout",
     "output_type": "stream",
     "text": [
      "Please enter a different password\n"
     ]
    }
   ],
   "source": [
    "name = \"User\"\n",
    "age = 31\n",
    "password = \"asdfgh\"\n",
    "\n",
    "if name==\"Batman\":\n",
    "    print(\"Welcome Mr. Batman\")\n",
    "\n",
    "if age<16:\n",
    "    print(\"Dear %s, you are too young to register\" % name)\n",
    "\n",
    "elif \"*\" not in password and \"&\" not in password:\n",
    "    print(\"Please enter a different password\")"
   ]
  },
  {
   "cell_type": "markdown",
   "metadata": {},
   "source": []
  },
  {
   "cell_type": "markdown",
   "metadata": {},
   "source": [
    "# Loops"
   ]
  },
  {
   "cell_type": "markdown",
   "metadata": {},
   "source": [
    "### Problem 5"
   ]
  },
  {
   "cell_type": "code",
   "execution_count": 14,
   "metadata": {},
   "outputs": [
    {
     "name": "stdout",
     "output_type": "stream",
     "text": [
      "Odd numbers:  1\n",
      "Odd numbers:  3\n",
      "Odd numbers:  5\n",
      "Odd numbers:  7\n",
      "Odd numbers:  9\n",
      "Odd numbers:  11\n",
      "Odd numbers:  13\n",
      "Odd numbers:  15\n",
      "Odd numbers:  17\n",
      "Odd numbers:  19\n",
      "Odd numbers:  21\n",
      "Odd numbers:  23\n",
      "Odd numbers:  25\n",
      "Odd numbers:  27\n",
      "Odd numbers:  29\n",
      "Odd numbers:  31\n",
      "Odd numbers:  33\n",
      "Odd numbers:  35\n",
      "Odd numbers:  37\n",
      "Odd numbers:  39\n",
      "Odd numbers:  41\n",
      "Odd numbers:  43\n",
      "Odd numbers:  45\n",
      "Odd numbers:  47\n",
      "Odd numbers:  49\n",
      "Odd numbers:  51\n",
      "Odd numbers:  53\n",
      "Odd numbers:  55\n",
      "Odd numbers:  57\n",
      "Odd numbers:  59\n",
      "Odd numbers:  61\n",
      "Odd numbers:  63\n",
      "Odd numbers:  65\n",
      "Odd numbers:  67\n",
      "Odd numbers:  69\n",
      "Odd numbers:  71\n",
      "Odd numbers:  73\n",
      "Odd numbers:  75\n",
      "Odd numbers:  77\n",
      "Odd numbers:  79\n",
      "Odd numbers:  81\n",
      "Odd numbers:  83\n",
      "Odd numbers:  85\n",
      "Odd numbers:  87\n",
      "Odd numbers:  89\n",
      "Odd numbers:  91\n",
      "Odd numbers:  93\n",
      "Odd numbers:  95\n",
      "Odd numbers:  97\n",
      "Odd numbers:  99\n"
     ]
    }
   ],
   "source": [
    "list(range(101))\n",
    "for x in list(range(101)):\n",
    "    if x % 2 == 1:\n",
    "        print(\"Odd numbers: \", x)"
   ]
  },
  {
   "cell_type": "markdown",
   "metadata": {},
   "source": [
    "#### Problem 6"
   ]
  },
  {
   "cell_type": "code",
   "execution_count": 81,
   "metadata": {},
   "outputs": [
    {
     "name": "stdout",
     "output_type": "stream",
     "text": [
      "n=  1\n",
      "n=  3\n",
      "n=  5\n",
      "n=  6\n"
     ]
    }
   ],
   "source": [
    "n = 0\n",
    "while n < 6:\n",
    "    n += 1\n",
    "    if n == 2 or n ==4:\n",
    "        continue\n",
    "    print(\"n= \", n)"
   ]
  },
  {
   "cell_type": "markdown",
   "metadata": {},
   "source": [
    "#### Problem 7"
   ]
  },
  {
   "cell_type": "code",
   "execution_count": 76,
   "metadata": {},
   "outputs": [
    {
     "name": "stdout",
     "output_type": "stream",
     "text": [
      "n =  1\n",
      "n =  2\n",
      "n =  3\n",
      "n =  4\n",
      "n =  5\n",
      "n =  6\n",
      "n =  7\n",
      "n =  8\n",
      "n =  9\n",
      "n =  10\n",
      "n =  11\n",
      "n =  12\n",
      "n =  13\n",
      "n =  14\n",
      "n =  15\n"
     ]
    }
   ],
   "source": [
    "list(range(1, 20))\n",
    "for x in list(range(1,20)):\n",
    "    print(\"n = \", x)\n",
    "    if x % 3 == 0 and x% 5==0:\n",
    "        break"
   ]
  },
  {
   "cell_type": "markdown",
   "metadata": {},
   "source": []
  },
  {
   "cell_type": "markdown",
   "metadata": {},
   "source": [
    "## List comprehension"
   ]
  },
  {
   "cell_type": "markdown",
   "metadata": {},
   "source": [
    "#### Problem 10"
   ]
  },
  {
   "cell_type": "code",
   "execution_count": 80,
   "metadata": {},
   "outputs": [
    {
     "name": "stdout",
     "output_type": "stream",
     "text": [
      "[7, 8, 120, 25, 44, 20, 27]\n",
      "Even numbers:  [8, 120, 44, 20]\n"
     ]
    }
   ],
   "source": [
    "num = [7, 8, 120, 25, 44, 20, 27]\n",
    "print(num)\n",
    "even_num = [x for x in num if x%2==0]\n",
    "print(\"Even numbers: \", even_num)"
   ]
  },
  {
   "cell_type": "markdown",
   "metadata": {},
   "source": [
    "#### Problem 11"
   ]
  },
  {
   "cell_type": "code",
   "execution_count": 37,
   "metadata": {},
   "outputs": [
    {
     "name": "stdout",
     "output_type": "stream",
     "text": [
      "[1, 4, 9, 16, 25, 36, 49, 64, 81, 100, 121, 144, 169, 196, 225, 256, 289, 324, 361, 400, 441, 484, 529, 576, 625, 676, 729, 784, 841, 900, 961, 1024, 1089, 1156, 1225, 1296, 1369, 1444, 1521, 1600, 1681, 1764, 1849, 1936, 2025, 2116, 2209, 2304, 2401, 2500]\n"
     ]
    }
   ],
   "source": [
    "list3= [x**2 for x in range(1,51)]\n",
    "print(list3)"
   ]
  },
  {
   "cell_type": "markdown",
   "metadata": {},
   "source": [
    "### Problem 12"
   ]
  },
  {
   "cell_type": "code",
   "execution_count": null,
   "metadata": {},
   "outputs": [],
   "source": []
  }
 ],
 "metadata": {
  "kernelspec": {
   "display_name": "Python 3",
   "language": "python",
   "name": "python3"
  },
  "language_info": {
   "codemirror_mode": {
    "name": "ipython",
    "version": 3
   },
   "file_extension": ".py",
   "mimetype": "text/x-python",
   "name": "python",
   "nbconvert_exporter": "python",
   "pygments_lexer": "ipython3",
   "version": "3.7.3"
  }
 },
 "nbformat": 4,
 "nbformat_minor": 2
}
