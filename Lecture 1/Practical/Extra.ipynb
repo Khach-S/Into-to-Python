{
 "cells": [
  {
   "cell_type": "code",
   "execution_count": 4,
   "metadata": {},
   "outputs": [
    {
     "name": "stdout",
     "output_type": "stream",
     "text": [
      "course: Python\n",
      "Your_name Your_last_name: Kh S\n",
      "Nickname: test\n",
      "grade: 8\n",
      "PythonExpert: False\n"
     ]
    }
   ],
   "source": [
    "course = input(\"course: \")\n",
    "student = input(\"Your_name Your_last_name: \")\n",
    "nickname = input(\"Nickname: \")\n",
    "grade = input(\"grade: \")\n",
    "pythonExpert= input(\"PythonExpert: \")"
   ]
  }
 ],
 "metadata": {
  "kernelspec": {
   "display_name": "Python 3",
   "language": "python",
   "name": "python3"
  },
  "language_info": {
   "codemirror_mode": {
    "name": "ipython",
    "version": 3
   },
   "file_extension": ".py",
   "mimetype": "text/x-python",
   "name": "python",
   "nbconvert_exporter": "python",
   "pygments_lexer": "ipython3",
   "version": "3.7.3"
  }
 },
 "nbformat": 4,
 "nbformat_minor": 2
}
