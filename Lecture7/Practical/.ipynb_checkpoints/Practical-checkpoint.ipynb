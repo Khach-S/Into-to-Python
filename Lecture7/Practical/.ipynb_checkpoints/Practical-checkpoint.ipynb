{
 "cells": [
  {
   "cell_type": "markdown",
   "metadata": {},
   "source": [
    "Problem 1"
   ]
  },
  {
   "cell_type": "code",
   "execution_count": 7,
   "metadata": {},
   "outputs": [],
   "source": [
    "class Animal:\n",
    "    def __init__(self, name):\n",
    "        self.name = name\n",
    "    def move(self):\n",
    "        print(\"I can move\")\n",
    "        \n",
    "class Dog(Animal):\n",
    "    def __init__(self): \n",
    "        Animal.__init__(self, \"Dog\")       \n",
    "    def move(self):\n",
    "        print(\"I can run really fast\")\n",
    "dog_1 = Dog()"
   ]
  },
  {
   "cell_type": "code",
   "execution_count": 10,
   "metadata": {},
   "outputs": [
    {
     "name": "stdout",
     "output_type": "stream",
     "text": [
      "I can run really fast\n"
     ]
    }
   ],
   "source": [
    "dog_1.move()"
   ]
  },
  {
   "cell_type": "code",
   "execution_count": null,
   "metadata": {},
   "outputs": [],
   "source": []
  },
  {
   "cell_type": "markdown",
   "metadata": {},
   "source": [
    "Problem 2"
   ]
  },
  {
   "cell_type": "code",
   "execution_count": 43,
   "metadata": {},
   "outputs": [],
   "source": [
    "class Animal:\n",
    "    def __init__(self, name, legs):\n",
    "        self.name = name\n",
    "        self.legs = legs\n",
    "    def getName(self):\n",
    "        print(\"My name is %s\" % (self.name))\n",
    "    def getLegs(self):\n",
    "        print(\"I have %s legs\" % (self.legs))\n",
    "            \n",
    "class Exnik(Animal):\n",
    "    def __init__(self):\n",
    "        Animal.__init__(self, \"Exnik\", 4)\n",
    "\n",
    "e1 = Exnik()"
   ]
  },
  {
   "cell_type": "code",
   "execution_count": 44,
   "metadata": {},
   "outputs": [
    {
     "name": "stdout",
     "output_type": "stream",
     "text": [
      "I have 4 legs\n"
     ]
    }
   ],
   "source": [
    "e1.getLegs()"
   ]
  },
  {
   "cell_type": "code",
   "execution_count": 45,
   "metadata": {},
   "outputs": [
    {
     "name": "stdout",
     "output_type": "stream",
     "text": [
      "My name is Exnik\n"
     ]
    }
   ],
   "source": [
    "e1.getName()"
   ]
  },
  {
   "cell_type": "code",
   "execution_count": null,
   "metadata": {},
   "outputs": [],
   "source": []
  },
  {
   "cell_type": "markdown",
   "metadata": {},
   "source": [
    "Problem 3"
   ]
  },
  {
   "cell_type": "code",
   "execution_count": 57,
   "metadata": {},
   "outputs": [],
   "source": [
    "from abc import ABC, abstractmethod\n",
    "\n",
    "class Bird(ABC):\n",
    "    def __init__(self, name, weight):\n",
    "        self.name = name\n",
    "        self.weight = weight\n",
    "        \n",
    "    @abstractmethod\n",
    "    def fly(self):\n",
    "        pass\n",
    "    \n",
    "class Hav(Bird):\n",
    "    def __init__(self, name, weight):\n",
    "        Bird.__init__(self, name, weight) #or super().__init__()\n",
    "\n",
    "    def fly(self):\n",
    "        print(\"I believe I can fly\")\n",
    "        \n",
    "h1 = Hav(\"Trch\", 5)"
   ]
  },
  {
   "cell_type": "code",
   "execution_count": 58,
   "metadata": {},
   "outputs": [
    {
     "name": "stdout",
     "output_type": "stream",
     "text": [
      "I believe I can fly\n"
     ]
    }
   ],
   "source": [
    "h1.fly()"
   ]
  },
  {
   "cell_type": "markdown",
   "metadata": {},
   "source": [
    "Problem 4"
   ]
  },
  {
   "cell_type": "code",
   "execution_count": 52,
   "metadata": {},
   "outputs": [],
   "source": [
    "class Model:\n",
    "    def __init__(self, name):\n",
    "        self.name = name\n",
    "    def printModel(self):\n",
    "        print(\"The model of the vehicle is \", self.name)\n",
    "\n",
    "class Color:\n",
    "    def __init__(self, color):\n",
    "        self.color = color\n",
    "    \n",
    "    def printColor(self):\n",
    "        print(\"The color of the vehicle is \", self.color)\n",
    "        \n",
    "class Car(Model, Color):\n",
    "    def __init__(self, name, color):\n",
    "        Model.__init__(self, name)\n",
    "        Color.__init__(self, color)\n",
    "\n",
    "car1 = Car(\"Mercedes\", \"black\")"
   ]
  },
  {
   "cell_type": "code",
   "execution_count": 53,
   "metadata": {},
   "outputs": [
    {
     "name": "stdout",
     "output_type": "stream",
     "text": [
      "The model of the vehicle is  Mercedes\n"
     ]
    }
   ],
   "source": [
    "car1.printModel()"
   ]
  },
  {
   "cell_type": "code",
   "execution_count": 54,
   "metadata": {},
   "outputs": [
    {
     "name": "stdout",
     "output_type": "stream",
     "text": [
      "The color of the vehicle is  black\n"
     ]
    }
   ],
   "source": [
    "car1.printColor()"
   ]
  }
 ],
 "metadata": {
  "kernelspec": {
   "display_name": "Python 3",
   "language": "python",
   "name": "python3"
  },
  "language_info": {
   "codemirror_mode": {
    "name": "ipython",
    "version": 3
   },
   "file_extension": ".py",
   "mimetype": "text/x-python",
   "name": "python",
   "nbconvert_exporter": "python",
   "pygments_lexer": "ipython3",
   "version": "3.7.3"
  }
 },
 "nbformat": 4,
 "nbformat_minor": 2
}
