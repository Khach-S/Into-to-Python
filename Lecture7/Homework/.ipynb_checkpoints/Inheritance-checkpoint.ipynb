{
 "cells": [
  {
   "cell_type": "markdown",
   "metadata": {},
   "source": [
    "## Inheritance"
   ]
  },
  {
   "cell_type": "markdown",
   "metadata": {},
   "source": [
    "Problem 1"
   ]
  },
  {
   "cell_type": "code",
   "execution_count": 22,
   "metadata": {},
   "outputs": [],
   "source": [
    "class Calculation:\n",
    "    def __init__(self, x, y):\n",
    "        self.x = x\n",
    "        self.y = y\n",
    "    \n",
    "    def addition(self):\n",
    "        print(\"The addition of x & y: \", self.x + self.y)\n",
    "    \n",
    "    def subtraction(self):\n",
    "        print(\"The subtraction of x & y: \", self.x - self.y)\n",
    "    \n",
    "class MyCalculation(Calculation):\n",
    "    def __init__(self, x, y):\n",
    "        Calculation.__init__(self, x, y)\n",
    "        \n",
    "    def multiplication(self):\n",
    "        print(\"The multiplication of x & y: \", self.x * self.y)\n",
    "    \n",
    "    def division(self):\n",
    "        print(\"The division of x & y: \", self.x / self.y)"
   ]
  },
  {
   "cell_type": "code",
   "execution_count": 25,
   "metadata": {},
   "outputs": [
    {
     "name": "stdout",
     "output_type": "stream",
     "text": [
      "The addition of x & y:  8\n",
      "The subtraction of x & y:  -2\n",
      "The multiplication of x & y:  15\n",
      "The division of x & y:  0.6\n"
     ]
    }
   ],
   "source": [
    "my_calc = MyCalculation(3, 5)\n",
    "my_calc.addition()\n",
    "my_calc.subtraction()\n",
    "my_calc.multiplication()\n",
    "my_calc.division()"
   ]
  },
  {
   "cell_type": "markdown",
   "metadata": {},
   "source": [
    "### Problem 2"
   ]
  },
  {
   "cell_type": "code",
   "execution_count": 28,
   "metadata": {},
   "outputs": [
    {
     "name": "stdout",
     "output_type": "stream",
     "text": [
      "The current time is 13.03.2013\n",
      "The current date is 12 PM\n"
     ]
    }
   ],
   "source": [
    "class My_Time:\n",
    "    def __init__(self, t):\n",
    "        self.t = t\n",
    "    \n",
    "    def printTime(self):\n",
    "        print(\"The current time is\", self.t)\n",
    "        \n",
    "class My_Date:\n",
    "    def __init__(self, d):\n",
    "        self.d = d\n",
    "        \n",
    "    def printDate(self):\n",
    "        print(\"The current date is\", self.d)\n",
    "\n",
    "class Date_Time(My_Date, My_Time):\n",
    "    def __init__(self, d, t):\n",
    "        My_Date.__init__(self, d)\n",
    "        My_Time.__init__(self, t)\n",
    "\n",
    "my_D_T = Date_Time(\"12 PM\", \"13.03.2013\")\n",
    "\n",
    "my_D_T.printTime()\n",
    "my_D_T.printDate()"
   ]
  }
 ],
 "metadata": {
  "kernelspec": {
   "display_name": "Python 3",
   "language": "python",
   "name": "python3"
  },
  "language_info": {
   "codemirror_mode": {
    "name": "ipython",
    "version": 3
   },
   "file_extension": ".py",
   "mimetype": "text/x-python",
   "name": "python",
   "nbconvert_exporter": "python",
   "pygments_lexer": "ipython3",
   "version": "3.7.3"
  }
 },
 "nbformat": 4,
 "nbformat_minor": 2
}
