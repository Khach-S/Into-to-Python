{
 "cells": [
  {
   "cell_type": "markdown",
   "metadata": {},
   "source": [
    "Problem 13"
   ]
  },
  {
   "cell_type": "code",
   "execution_count": 3,
   "metadata": {},
   "outputs": [
    {
     "name": "stdout",
     "output_type": "stream",
     "text": [
      "Index 4:  country \n",
      " Index -4:  10\n"
     ]
    }
   ],
   "source": [
    "t1 = (1, 8, 10, 22, 'country', 'year')\n",
    "\n",
    "print(\"Index 4: \",t1[4], \"\\n\", \"Index -4: \", t1[-4])"
   ]
  },
  {
   "cell_type": "code",
   "execution_count": null,
   "metadata": {},
   "outputs": [],
   "source": []
  },
  {
   "cell_type": "markdown",
   "metadata": {},
   "source": [
    "Problem 14"
   ]
  },
  {
   "cell_type": "code",
   "execution_count": 1,
   "metadata": {},
   "outputs": [],
   "source": [
    "ex = list()"
   ]
  },
  {
   "cell_type": "code",
   "execution_count": 2,
   "metadata": {},
   "outputs": [
    {
     "name": "stdout",
     "output_type": "stream",
     "text": [
      "('country', 4, 5, 6, 'year', 'data', 10, 20)\n",
      "('country', 4, 5, 6, 'hello', 'data', 10, 20)\n"
     ]
    }
   ],
   "source": [
    "t2 = ('country', 4, 5, 6, 'year', 'data', 10, 20)\n",
    "print(t2)\n",
    "\n",
    "l1 = list(t2)\n",
    "l1[4] = \"hello\"\n",
    "\n",
    "t2 = tuple(l1)\n",
    "print(t2)\n"
   ]
  }
 ],
 "metadata": {
  "kernelspec": {
   "display_name": "Python 3",
   "language": "python",
   "name": "python3"
  },
  "language_info": {
   "codemirror_mode": {
    "name": "ipython",
    "version": 3
   },
   "file_extension": ".py",
   "mimetype": "text/x-python",
   "name": "python",
   "nbconvert_exporter": "python",
   "pygments_lexer": "ipython3",
   "version": "3.7.3"
  }
 },
 "nbformat": 4,
 "nbformat_minor": 2
}
