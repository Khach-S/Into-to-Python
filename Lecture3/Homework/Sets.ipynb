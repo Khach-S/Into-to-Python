{
 "cells": [
  {
   "cell_type": "markdown",
   "metadata": {},
   "source": [
    "## Sets"
   ]
  },
  {
   "cell_type": "code",
   "execution_count": 1,
   "metadata": {},
   "outputs": [],
   "source": [
    "a1 = [\"Cookies\", \"Chocolate\", 8, True, -3, -5, \"Chocolate\", 8, False, 8]\n",
    "b1 = [8, True, 10, 14, \"Chocolate\", \"Milk\", \"Jelly\", True, False, True]"
   ]
  },
  {
   "cell_type": "code",
   "execution_count": 3,
   "metadata": {},
   "outputs": [
    {
     "name": "stdout",
     "output_type": "stream",
     "text": [
      "{False, True, 8, -5, 'Cookies', -3, 'Chocolate'}\n",
      "{False, True, 8, 10, 'Jelly', 14, 'Milk', 'Chocolate'}\n"
     ]
    }
   ],
   "source": [
    "set_a = set(a1)\n",
    "set_b = set(b1)\n",
    "print(set_a)\n",
    "print(set_b)"
   ]
  },
  {
   "cell_type": "code",
   "execution_count": 5,
   "metadata": {},
   "outputs": [
    {
     "name": "stdout",
     "output_type": "stream",
     "text": [
      "{False, True, 8, 10, 'Jelly', 14, 'Milk', -5, 'Cookies', -3, 'Chocolate'}\n"
     ]
    }
   ],
   "source": [
    "union_ab = set_a.union(set_b)\n",
    "print(union_ab)"
   ]
  },
  {
   "cell_type": "code",
   "execution_count": 6,
   "metadata": {},
   "outputs": [
    {
     "name": "stdout",
     "output_type": "stream",
     "text": [
      "{False, True, 'Chocolate', 8}\n"
     ]
    }
   ],
   "source": [
    "intersection_ab = set_a.intersection(set_b)\n",
    "print(intersection_ab)"
   ]
  },
  {
   "cell_type": "code",
   "execution_count": 7,
   "metadata": {},
   "outputs": [
    {
     "name": "stdout",
     "output_type": "stream",
     "text": [
      "{False, True, 'Oreo', 8, 10, 'Jelly', 14, 'Kit-Kat', 'Milk', -5, 'Cookies', -3, 'Chocolate'}\n"
     ]
    }
   ],
   "source": [
    "union_ab.add(\"Kit-Kat\")\n",
    "union_ab.add(\"Oreo\")\n",
    "print(union_ab)"
   ]
  },
  {
   "cell_type": "code",
   "execution_count": 8,
   "metadata": {},
   "outputs": [
    {
     "name": "stdout",
     "output_type": "stream",
     "text": [
      "{False, True, 'Oreo', 8, 10, 'Jelly', 14, 'Kit-Kat', 'Milk', -5, 'Cookies', -3, 'Chocolate'}\n"
     ]
    }
   ],
   "source": [
    "new_set = union_ab | intersection_ab\n",
    "print(new_set)"
   ]
  },
  {
   "cell_type": "code",
   "execution_count": 9,
   "metadata": {},
   "outputs": [
    {
     "data": {
      "text/plain": [
       "True"
      ]
     },
     "execution_count": 9,
     "metadata": {},
     "output_type": "execute_result"
    }
   ],
   "source": [
    "\"Chocolate\" in new_set"
   ]
  },
  {
   "cell_type": "code",
   "execution_count": 10,
   "metadata": {},
   "outputs": [
    {
     "name": "stdout",
     "output_type": "stream",
     "text": [
      "{False, True, 8, 10, 'Jelly', 14, 'Kit-Kat', 'Milk', -5, 'Cookies', -3, 'Chocolate'}\n"
     ]
    }
   ],
   "source": [
    "new_set.remove(\"Oreo\")\n",
    "print(new_set)"
   ]
  }
 ],
 "metadata": {
  "kernelspec": {
   "display_name": "Python 3",
   "language": "python",
   "name": "python3"
  },
  "language_info": {
   "codemirror_mode": {
    "name": "ipython",
    "version": 3
   },
   "file_extension": ".py",
   "mimetype": "text/x-python",
   "name": "python",
   "nbconvert_exporter": "python",
   "pygments_lexer": "ipython3",
   "version": "3.7.3"
  }
 },
 "nbformat": 4,
 "nbformat_minor": 2
}
